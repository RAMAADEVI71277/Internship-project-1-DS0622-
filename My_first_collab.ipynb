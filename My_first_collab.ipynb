{
  "nbformat": 4,
  "nbformat_minor": 0,
  "metadata": {
    "colab": {
      "provenance": []
    },
    "kernelspec": {
      "name": "python3",
      "display_name": "Python 3"
    },
    "language_info": {
      "name": "python"
    }
  },
  "cells": [
    {
      "cell_type": "code",
      "execution_count": 2,
      "metadata": {
        "id": "jbBUlHLctvzD"
      },
      "outputs": [],
      "source": [
        "DataScience = \"Hello batch DS0622, Welcome to Project phase\""
      ]
    },
    {
      "cell_type": "code",
      "source": [
        "DataScience"
      ],
      "metadata": {
        "colab": {
          "base_uri": "https://localhost:8080/",
          "height": 36
        },
        "id": "K3R8CM45t1bj",
        "outputId": "3d90aa65-e82d-42d3-81c9-54cfc6e52700"
      },
      "execution_count": 3,
      "outputs": [
        {
          "output_type": "execute_result",
          "data": {
            "text/plain": [
              "'Hello batch DS0622, Welcome to Project phase'"
            ],
            "application/vnd.google.colaboratory.intrinsic+json": {
              "type": "string"
            }
          },
          "metadata": {},
          "execution_count": 3
        }
      ]
    }
  ]
}