{
 "cells": [
  {
   "cell_type": "code",
   "execution_count": 1,
   "id": "b149f45f",
   "metadata": {},
   "outputs": [],
   "source": [
    "DataScience = \"Hello batch DS0622,Welcome to Project phase\""
   ]
  },
  {
   "cell_type": "code",
   "execution_count": 2,
   "id": "7a715c1e",
   "metadata": {},
   "outputs": [
    {
     "data": {
      "text/plain": [
       "'Hello batch DS0622,Welcome to Project phase'"
      ]
     },
     "execution_count": 2,
     "metadata": {},
     "output_type": "execute_result"
    }
   ],
   "source": [
    "DataScience"
   ]
  },
  {
   "cell_type": "code",
   "execution_count": null,
   "id": "c6691e65",
   "metadata": {},
   "outputs": [],
   "source": []
  }
 ],
 "metadata": {
  "kernelspec": {
   "display_name": "Python 3 (ipykernel)",
   "language": "python",
   "name": "python3"
  },
  "language_info": {
   "codemirror_mode": {
    "name": "ipython",
    "version": 3
   },
   "file_extension": ".py",
   "mimetype": "text/x-python",
   "name": "python",
   "nbconvert_exporter": "python",
   "pygments_lexer": "ipython3",
   "version": "3.9.12"
  }
 },
 "nbformat": 4,
 "nbformat_minor": 5
}
